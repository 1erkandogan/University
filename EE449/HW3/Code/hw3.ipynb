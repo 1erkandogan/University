{
 "cells": [
  {
   "cell_type": "code",
   "execution_count": 1,
   "metadata": {},
   "outputs": [
    {
     "name": "stdout",
     "output_type": "stream",
     "text": [
      "cuda is available\n",
      "True\n",
      "0\n",
      "<torch.cuda.device object at 0x000002121A000070>\n",
      "1\n",
      "NVIDIA GeForce RTX 3050 Ti Laptop GPU\n"
     ]
    }
   ],
   "source": [
    "# Import environment libraries\n",
    "import gym_super_mario_bros\n",
    "from nes_py.wrappers import JoypadSpace\n",
    "from gym_super_mario_bros.actions import SIMPLE_MOVEMENT\n",
    "from utils import *\n",
    "# Import preprocessing wrappers\n",
    "from gym.wrappers import GrayScaleObservation\n",
    "from stable_baselines3.common.vec_env import VecFrameStack, DummyVecEnv, VecMonitor, SubprocVecEnv\n",
    "from matplotlib import pyplot as plt\n",
    "\n",
    "from utils import SaveOnBestTrainingRewardCallback\n",
    "from stable_baselines3 import PPO\n",
    "from stable_baselines3 import DQN\n",
    "\n",
    "from matplotlib import pyplot as plt\n",
    "import torch\n",
    "\n",
    "SAVE_FREQ = 10000\n",
    "CHECK_FREQ = 1000\n",
    "TOTAL_TIMESTEPS = 5000000\n",
    "BASE_DIR = \"C:/Users/erkan/Desktop/EE/e2022_2/EE449/2023/HW3/Code/\"\n",
    "\n",
    "device_cuda = torch.device('cuda' if torch.cuda.is_available() else 'cpu')\n",
    "print(f\"{device_cuda} is available\")\n",
    "print(torch.cuda.is_available())\n",
    "print(torch.cuda.current_device())\n",
    "print(torch.cuda.device(0))\n",
    "print(torch.cuda.device_count())\n",
    "print(torch.cuda.get_device_name(0))"
   ]
  },
  {
   "cell_type": "code",
   "execution_count": 2,
   "metadata": {},
   "outputs": [],
   "source": [
    "def path_creator(model_name, itr):\n",
    "    CHECKPOINT_DIR = BASE_DIR + f'{model_name}_{itr}/' + 'train/'\n",
    "    LOG_DIR = BASE_DIR + f'{model_name}_{itr}/' + 'logs/'\n",
    "    # Create the necessary directories\n",
    "    os.makedirs(CHECKPOINT_DIR, exist_ok=True)\n",
    "    os.makedirs(LOG_DIR, exist_ok=True)\n",
    "    return CHECKPOINT_DIR, LOG_DIR\n",
    "\n",
    "def env_generator(CHECKPOINT_DIR, itr):\n",
    "    # Start the environment\n",
    "    env = gym_super_mario_bros.make('SuperMarioBros-v0') # Generates the environment\n",
    "    env = JoypadSpace(env, SIMPLE_MOVEMENT) # Limits the joypads moves with important moves\n",
    "    #startGameRand(env)\n",
    "\n",
    "    # Apply the preprocessing\n",
    "    env = GrayScaleObservation(env, keep_dim=True) # Convert to grayscale to reduce dimensionality\n",
    "    env = DummyVecEnv([lambda: env])\n",
    "    #env = SubprocVecEnv([lambda: env])\n",
    "    # Alternatively, you may use SubprocVecEnv for multiple CPU processors\n",
    "    if itr == 3 or itr == 6:\n",
    "        env = VecFrameStack(env, 5, channels_order='last') # Stack frames\n",
    "    else:\n",
    "        env = VecFrameStack(env, 4, channels_order='last') # Stack frames\n",
    "    env = VecMonitor(env, f\"{CHECKPOINT_DIR}TestMonitor\") # Monitor your progress\n",
    "    return env\n",
    "\n",
    "def trainer(model_name, itr):\n",
    "    CHECKPOINT_DIR, LOG_DIR = path_creator(model_name, itr)\n",
    "    env = env_generator(CHECKPOINT_DIR, itr)\n",
    "    callback_func = SaveOnBestTrainingRewardCallback(save_freq=SAVE_FREQ, check_freq=CHECK_FREQ, chk_dir=CHECKPOINT_DIR)\n",
    "\n",
    "    if itr == 1:\n",
    "        model = PPO('CnnPolicy', env, verbose=1, tensorboard_log=LOG_DIR, learning_rate=0.000001, n_steps=256, device=device_cuda)\n",
    "    elif itr == 2:\n",
    "        model = PPO('CnnPolicy', env, verbose=1, tensorboard_log=LOG_DIR, learning_rate=0.000001, n_steps=512, device=device_cuda)\n",
    "    elif itr == 3:\n",
    "        model = PPO('CnnPolicy', env, verbose=1, tensorboard_log=LOG_DIR, learning_rate=0.0000001, n_steps=256, device=device_cuda)\n",
    "\n",
    "    elif itr == 4:\n",
    "        model = DQN('CnnPolicy', env, batch_size=192, verbose=1, learning_starts=10000, learning_rate=5e-3, exploration_fraction=0.1, exploration_initial_eps=1.0, exploration_final_eps=0.1, train_freq=8, buffer_size=10000, tensorboard_log=LOG_DIR, device=device_cuda)\n",
    "    elif itr == 5:\n",
    "        model = DQN('CnnPolicy', env, batch_size=384, verbose=1, learning_starts=10000, learning_rate=5e-3, exploration_fraction=0.1, exploration_initial_eps=1.0, exploration_final_eps=0.1, train_freq=8, buffer_size=10000, tensorboard_log=LOG_DIR, device=device_cuda)\n",
    "    elif itr == 6:\n",
    "        model = DQN('CnnPolicy', env, batch_size=192, verbose=1, learning_starts=10000, learning_rate=5e-4, exploration_fraction=0.1, exploration_initial_eps=1.0, exploration_final_eps=0.1, train_freq=8, buffer_size=10000, tensorboard_log=LOG_DIR, device=device_cuda)\n",
    "    elif itr == 7:\n",
    "        model = DQN('CnnPolicy', env, batch_size=192, verbose=1, learning_starts=10000, learning_rate=5e-3, exploration_fraction=0.1, exploration_initial_eps=1.0, exploration_final_eps=0.1, train_freq=8, buffer_size=10000, tensorboard_log=LOG_DIR, device=device_cuda)\n",
    "    \n",
    "    else:\n",
    "        return \"Invalid Argument\"\n",
    "    \n",
    "    model.learn(total_timesteps=TOTAL_TIMESTEPS, log_interval=1, callback=callback_func)\n",
    "    model.save(f'{CHECKPOINT_DIR}best_model_{model_name}_{itr}')"
   ]
  },
  {
   "cell_type": "code",
   "execution_count": null,
   "metadata": {},
   "outputs": [],
   "source": [
    "if __name__ == \"__main__\":\n",
    "    #trainer(\"PPO\", 1)\n",
    "    #trainer(\"PPO\", 2)\n",
    "    #trainer(\"PPO\", 3)\n",
    "    #trainer(\"DQN\", 4)\n",
    "    #trainer(\"DQN\", 5)\n",
    "    #trainer(\"DQN\", 6)\n",
    "    #trainer(\"DQN\", 7)\n",
    "    pass"
   ]
  },
  {
   "cell_type": "code",
   "execution_count": 3,
   "metadata": {},
   "outputs": [
    {
     "name": "stderr",
     "output_type": "stream",
     "text": [
      "C:\\Users\\erkan\\AppData\\Roaming\\Python\\Python38\\site-packages\\gym_super_mario_bros\\smb_env.py:148: RuntimeWarning: overflow encountered in scalar subtract\n",
      "  return (self.ram[0x86] - self.ram[0x071c]) % 256\n"
     ]
    },
    {
     "ename": "KeyboardInterrupt",
     "evalue": "",
     "output_type": "error",
     "traceback": [
      "\u001b[1;31m---------------------------------------------------------------------------\u001b[0m",
      "\u001b[1;31mKeyboardInterrupt\u001b[0m                         Traceback (most recent call last)",
      "Cell \u001b[1;32mIn[3], line 5\u001b[0m\n\u001b[0;32m      3\u001b[0m env \u001b[39m=\u001b[39m env_generator(\u001b[39m\"\u001b[39m\u001b[39mC:/Users/erkan/Desktop/EE/e2022_2/EE449/2023/HW3/Code/DQN_4/train/\u001b[39m\u001b[39m\"\u001b[39m, \u001b[39m4\u001b[39m)\n\u001b[0;32m      4\u001b[0m model \u001b[39m=\u001b[39m DQN\u001b[39m.\u001b[39mload(\u001b[39m\"\u001b[39m\u001b[39mC:/Users/erkan/Desktop/EE/e2022_2/EE449/2023/HW3/Code/DQN_4/train/best_model\u001b[39m\u001b[39m\"\u001b[39m)\n\u001b[1;32m----> 5\u001b[0m saveGameModel(env \u001b[39m=\u001b[39;49m env, \u001b[39mlen\u001b[39;49m \u001b[39m=\u001b[39;49m \u001b[39m1000000\u001b[39;49m, model \u001b[39m=\u001b[39;49m model)\n",
      "File \u001b[1;32mc:\\Users\\erkan\\Desktop\\EE\\e2022_2\\EE449\\2023\\HW3\\Code\\utils.py:91\u001b[0m, in \u001b[0;36msaveGameModel\u001b[1;34m(env, model, len, dir)\u001b[0m\n\u001b[0;32m     89\u001b[0m         state \u001b[39m=\u001b[39m env\u001b[39m.\u001b[39mreset()\n\u001b[0;32m     90\u001b[0m     action, _ \u001b[39m=\u001b[39m model\u001b[39m.\u001b[39mpredict(state)\n\u001b[1;32m---> 91\u001b[0m     state, _, fin, _ \u001b[39m=\u001b[39m env\u001b[39m.\u001b[39;49mstep(action)\n\u001b[0;32m     92\u001b[0m env\u001b[39m.\u001b[39mclose()\n",
      "File \u001b[1;32mc:\\Program Files\\Python38\\lib\\site-packages\\gym\\wrappers\\record_video.py:86\u001b[0m, in \u001b[0;36mRecordVideo.step\u001b[1;34m(self, action)\u001b[0m\n\u001b[0;32m     85\u001b[0m \u001b[39mdef\u001b[39;00m \u001b[39mstep\u001b[39m(\u001b[39mself\u001b[39m, action):\n\u001b[1;32m---> 86\u001b[0m     observations, rewards, dones, infos \u001b[39m=\u001b[39m \u001b[39msuper\u001b[39;49m(RecordVideo, \u001b[39mself\u001b[39;49m)\u001b[39m.\u001b[39;49mstep(action)\n\u001b[0;32m     88\u001b[0m     \u001b[39m# increment steps and episodes\u001b[39;00m\n\u001b[0;32m     89\u001b[0m     \u001b[39mself\u001b[39m\u001b[39m.\u001b[39mstep_id \u001b[39m+\u001b[39m\u001b[39m=\u001b[39m \u001b[39m1\u001b[39m\n",
      "File \u001b[1;32mc:\\Program Files\\Python38\\lib\\site-packages\\gym\\core.py:289\u001b[0m, in \u001b[0;36mWrapper.step\u001b[1;34m(self, action)\u001b[0m\n\u001b[0;32m    288\u001b[0m \u001b[39mdef\u001b[39;00m \u001b[39mstep\u001b[39m(\u001b[39mself\u001b[39m, action):\n\u001b[1;32m--> 289\u001b[0m     \u001b[39mreturn\u001b[39;00m \u001b[39mself\u001b[39;49m\u001b[39m.\u001b[39;49menv\u001b[39m.\u001b[39;49mstep(action)\n",
      "File \u001b[1;32mc:\\Program Files\\Python38\\lib\\site-packages\\stable_baselines3\\common\\vec_env\\base_vec_env.py:163\u001b[0m, in \u001b[0;36mVecEnv.step\u001b[1;34m(self, actions)\u001b[0m\n\u001b[0;32m    156\u001b[0m \u001b[39m\u001b[39m\u001b[39m\"\"\"\u001b[39;00m\n\u001b[0;32m    157\u001b[0m \u001b[39mStep the environments with the given action\u001b[39;00m\n\u001b[0;32m    158\u001b[0m \n\u001b[0;32m    159\u001b[0m \u001b[39m:param actions: the action\u001b[39;00m\n\u001b[0;32m    160\u001b[0m \u001b[39m:return: observation, reward, done, information\u001b[39;00m\n\u001b[0;32m    161\u001b[0m \u001b[39m\"\"\"\u001b[39;00m\n\u001b[0;32m    162\u001b[0m \u001b[39mself\u001b[39m\u001b[39m.\u001b[39mstep_async(actions)\n\u001b[1;32m--> 163\u001b[0m \u001b[39mreturn\u001b[39;00m \u001b[39mself\u001b[39;49m\u001b[39m.\u001b[39;49mstep_wait()\n",
      "File \u001b[1;32mc:\\Program Files\\Python38\\lib\\site-packages\\stable_baselines3\\common\\vec_env\\vec_monitor.py:76\u001b[0m, in \u001b[0;36mVecMonitor.step_wait\u001b[1;34m(self)\u001b[0m\n\u001b[0;32m     75\u001b[0m \u001b[39mdef\u001b[39;00m \u001b[39mstep_wait\u001b[39m(\u001b[39mself\u001b[39m) \u001b[39m-\u001b[39m\u001b[39m>\u001b[39m VecEnvStepReturn:\n\u001b[1;32m---> 76\u001b[0m     obs, rewards, dones, infos \u001b[39m=\u001b[39m \u001b[39mself\u001b[39;49m\u001b[39m.\u001b[39;49mvenv\u001b[39m.\u001b[39;49mstep_wait()\n\u001b[0;32m     77\u001b[0m     \u001b[39mself\u001b[39m\u001b[39m.\u001b[39mepisode_returns \u001b[39m+\u001b[39m\u001b[39m=\u001b[39m rewards\n\u001b[0;32m     78\u001b[0m     \u001b[39mself\u001b[39m\u001b[39m.\u001b[39mepisode_lengths \u001b[39m+\u001b[39m\u001b[39m=\u001b[39m \u001b[39m1\u001b[39m\n",
      "File \u001b[1;32mc:\\Program Files\\Python38\\lib\\site-packages\\stable_baselines3\\common\\vec_env\\vec_frame_stack.py:33\u001b[0m, in \u001b[0;36mVecFrameStack.step_wait\u001b[1;34m(self)\u001b[0m\n\u001b[0;32m     30\u001b[0m \u001b[39mdef\u001b[39;00m \u001b[39mstep_wait\u001b[39m(\n\u001b[0;32m     31\u001b[0m     \u001b[39mself\u001b[39m,\n\u001b[0;32m     32\u001b[0m ) \u001b[39m-\u001b[39m\u001b[39m>\u001b[39m Tuple[Union[np\u001b[39m.\u001b[39mndarray, Dict[\u001b[39mstr\u001b[39m, np\u001b[39m.\u001b[39mndarray]], np\u001b[39m.\u001b[39mndarray, np\u001b[39m.\u001b[39mndarray, List[Dict[\u001b[39mstr\u001b[39m, Any]],]:\n\u001b[1;32m---> 33\u001b[0m     observations, rewards, dones, infos \u001b[39m=\u001b[39m \u001b[39mself\u001b[39;49m\u001b[39m.\u001b[39;49mvenv\u001b[39m.\u001b[39;49mstep_wait()\n\u001b[0;32m     34\u001b[0m     observations, infos \u001b[39m=\u001b[39m \u001b[39mself\u001b[39m\u001b[39m.\u001b[39mstacked_obs\u001b[39m.\u001b[39mupdate(observations, dones, infos)\n\u001b[0;32m     35\u001b[0m     \u001b[39mreturn\u001b[39;00m observations, rewards, dones, infos\n",
      "File \u001b[1;32mc:\\Program Files\\Python38\\lib\\site-packages\\stable_baselines3\\common\\vec_env\\dummy_vec_env.py:54\u001b[0m, in \u001b[0;36mDummyVecEnv.step_wait\u001b[1;34m(self)\u001b[0m\n\u001b[0;32m     52\u001b[0m \u001b[39mdef\u001b[39;00m \u001b[39mstep_wait\u001b[39m(\u001b[39mself\u001b[39m) \u001b[39m-\u001b[39m\u001b[39m>\u001b[39m VecEnvStepReturn:\n\u001b[0;32m     53\u001b[0m     \u001b[39mfor\u001b[39;00m env_idx \u001b[39min\u001b[39;00m \u001b[39mrange\u001b[39m(\u001b[39mself\u001b[39m\u001b[39m.\u001b[39mnum_envs):\n\u001b[1;32m---> 54\u001b[0m         obs, \u001b[39mself\u001b[39m\u001b[39m.\u001b[39mbuf_rews[env_idx], \u001b[39mself\u001b[39m\u001b[39m.\u001b[39mbuf_dones[env_idx], \u001b[39mself\u001b[39m\u001b[39m.\u001b[39mbuf_infos[env_idx] \u001b[39m=\u001b[39m \u001b[39mself\u001b[39;49m\u001b[39m.\u001b[39;49menvs[env_idx]\u001b[39m.\u001b[39;49mstep(\n\u001b[0;32m     55\u001b[0m             \u001b[39mself\u001b[39;49m\u001b[39m.\u001b[39;49mactions[env_idx]\n\u001b[0;32m     56\u001b[0m         )\n\u001b[0;32m     57\u001b[0m         \u001b[39mif\u001b[39;00m \u001b[39mself\u001b[39m\u001b[39m.\u001b[39mbuf_dones[env_idx]:\n\u001b[0;32m     58\u001b[0m             \u001b[39m# save final observation where user can get it, then reset\u001b[39;00m\n\u001b[0;32m     59\u001b[0m             \u001b[39mself\u001b[39m\u001b[39m.\u001b[39mbuf_infos[env_idx][\u001b[39m\"\u001b[39m\u001b[39mterminal_observation\u001b[39m\u001b[39m\"\u001b[39m] \u001b[39m=\u001b[39m obs\n",
      "File \u001b[1;32mc:\\Program Files\\Python38\\lib\\site-packages\\gym\\core.py:323\u001b[0m, in \u001b[0;36mObservationWrapper.step\u001b[1;34m(self, action)\u001b[0m\n\u001b[0;32m    322\u001b[0m \u001b[39mdef\u001b[39;00m \u001b[39mstep\u001b[39m(\u001b[39mself\u001b[39m, action):\n\u001b[1;32m--> 323\u001b[0m     observation, reward, done, info \u001b[39m=\u001b[39m \u001b[39mself\u001b[39;49m\u001b[39m.\u001b[39;49menv\u001b[39m.\u001b[39;49mstep(action)\n\u001b[0;32m    324\u001b[0m     \u001b[39mreturn\u001b[39;00m \u001b[39mself\u001b[39m\u001b[39m.\u001b[39mobservation(observation), reward, done, info\n",
      "File \u001b[1;32m~\\AppData\\Roaming\\Python\\Python38\\site-packages\\nes_py\\wrappers\\joypad_space.py:74\u001b[0m, in \u001b[0;36mJoypadSpace.step\u001b[1;34m(self, action)\u001b[0m\n\u001b[0;32m     59\u001b[0m \u001b[39m\u001b[39m\u001b[39m\"\"\"\u001b[39;00m\n\u001b[0;32m     60\u001b[0m \u001b[39mTake a step using the given action.\u001b[39;00m\n\u001b[0;32m     61\u001b[0m \n\u001b[1;32m   (...)\u001b[0m\n\u001b[0;32m     71\u001b[0m \n\u001b[0;32m     72\u001b[0m \u001b[39m\"\"\"\u001b[39;00m\n\u001b[0;32m     73\u001b[0m \u001b[39m# take the step and record the output\u001b[39;00m\n\u001b[1;32m---> 74\u001b[0m \u001b[39mreturn\u001b[39;00m \u001b[39mself\u001b[39;49m\u001b[39m.\u001b[39;49menv\u001b[39m.\u001b[39;49mstep(\u001b[39mself\u001b[39;49m\u001b[39m.\u001b[39;49m_action_map[action])\n",
      "File \u001b[1;32mc:\\Program Files\\Python38\\lib\\site-packages\\gym\\wrappers\\time_limit.py:18\u001b[0m, in \u001b[0;36mTimeLimit.step\u001b[1;34m(self, action)\u001b[0m\n\u001b[0;32m     14\u001b[0m \u001b[39mdef\u001b[39;00m \u001b[39mstep\u001b[39m(\u001b[39mself\u001b[39m, action):\n\u001b[0;32m     15\u001b[0m     \u001b[39massert\u001b[39;00m (\n\u001b[0;32m     16\u001b[0m         \u001b[39mself\u001b[39m\u001b[39m.\u001b[39m_elapsed_steps \u001b[39mis\u001b[39;00m \u001b[39mnot\u001b[39;00m \u001b[39mNone\u001b[39;00m\n\u001b[0;32m     17\u001b[0m     ), \u001b[39m\"\u001b[39m\u001b[39mCannot call env.step() before calling reset()\u001b[39m\u001b[39m\"\u001b[39m\n\u001b[1;32m---> 18\u001b[0m     observation, reward, done, info \u001b[39m=\u001b[39m \u001b[39mself\u001b[39;49m\u001b[39m.\u001b[39;49menv\u001b[39m.\u001b[39;49mstep(action)\n\u001b[0;32m     19\u001b[0m     \u001b[39mself\u001b[39m\u001b[39m.\u001b[39m_elapsed_steps \u001b[39m+\u001b[39m\u001b[39m=\u001b[39m \u001b[39m1\u001b[39m\n\u001b[0;32m     20\u001b[0m     \u001b[39mif\u001b[39;00m \u001b[39mself\u001b[39m\u001b[39m.\u001b[39m_elapsed_steps \u001b[39m>\u001b[39m\u001b[39m=\u001b[39m \u001b[39mself\u001b[39m\u001b[39m.\u001b[39m_max_episode_steps:\n",
      "File \u001b[1;32m~\\AppData\\Roaming\\Python\\Python38\\site-packages\\nes_py\\nes_env.py:293\u001b[0m, in \u001b[0;36mNESEnv.step\u001b[1;34m(self, action)\u001b[0m\n\u001b[0;32m    291\u001b[0m \u001b[39mself\u001b[39m\u001b[39m.\u001b[39mcontrollers[\u001b[39m0\u001b[39m][:] \u001b[39m=\u001b[39m action\n\u001b[0;32m    292\u001b[0m \u001b[39m# pass the action to the emulator as an unsigned byte\u001b[39;00m\n\u001b[1;32m--> 293\u001b[0m _LIB\u001b[39m.\u001b[39;49mStep(\u001b[39mself\u001b[39;49m\u001b[39m.\u001b[39;49m_env)\n\u001b[0;32m    294\u001b[0m \u001b[39m# get the reward for this step\u001b[39;00m\n\u001b[0;32m    295\u001b[0m reward \u001b[39m=\u001b[39m \u001b[39mself\u001b[39m\u001b[39m.\u001b[39m_get_reward()\n",
      "\u001b[1;31mKeyboardInterrupt\u001b[0m: "
     ]
    }
   ],
   "source": [
    "\n",
    "#startGameModel(env, model)\n",
    "for i in range(10):\n",
    "    env = env_generator(\"C:/Users/erkan/Desktop/EE/e2022_2/EE449/2023/HW3/Code/DQN_4/train/\", 4)\n",
    "    model = DQN.load(\"C:/Users/erkan/Desktop/EE/e2022_2/EE449/2023/HW3/Code/DQN_4/train/best_model\")\n",
    "    saveGameModel(env = env, len = 1000000, model = model)"
   ]
  }
 ],
 "metadata": {
  "kernelspec": {
   "display_name": "Python 3",
   "language": "python",
   "name": "python3"
  },
  "language_info": {
   "codemirror_mode": {
    "name": "ipython",
    "version": 3
   },
   "file_extension": ".py",
   "mimetype": "text/x-python",
   "name": "python",
   "nbconvert_exporter": "python",
   "pygments_lexer": "ipython3",
   "version": "3.8.0"
  },
  "orig_nbformat": 4
 },
 "nbformat": 4,
 "nbformat_minor": 2
}
